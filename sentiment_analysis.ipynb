{
 "cells": [
  {
   "cell_type": "code",
   "execution_count": 1,
   "metadata": {
    "collapsed": true,
    "pycharm": {
     "name": "#%%\n"
    }
   },
   "outputs": [],
   "source": [
    "import pandas as pd\n",
    "import numpy as np\n",
    "import string\n",
    "import pymorphy2\n",
    "import nltk\n",
    "import time\n",
    "\n",
    "from nltk.corpus import stopwords\n",
    "from nltk.stem import SnowballStemmer\n",
    "from sklearn.model_selection import train_test_split\n",
    "from sklearn.feature_extraction.text import CountVectorizer\n",
    "from sklearn.model_selection import cross_val_score, KFold\n",
    "from sklearn.naive_bayes import MultinomialNB\n",
    "from sklearn.svm import LinearSVC\n",
    "from sklearn.metrics import confusion_matrix, precision_score, recall_score, f1_score, accuracy_score, precision_recall_fscore_support"
   ]
  },
  {
   "cell_type": "code",
   "execution_count": 2,
   "outputs": [],
   "source": [
    "df_pos = pd.read_csv(\"data_pos.csv\", sep=\",\", header = 0)\n",
    "df_neg = pd.read_csv(\"data_neg.csv\", sep=\",\", header = 0)\n",
    "df_neu = pd.read_csv(\"data_neu.csv\", sep=\",\", header = 0)"
   ],
   "metadata": {
    "collapsed": false,
    "pycharm": {
     "name": "#%%\n"
    }
   }
  },
  {
   "cell_type": "code",
   "execution_count": 3,
   "outputs": [],
   "source": [
    "del df_pos['Unnamed: 0']\n",
    "del df_neg['Unnamed: 0']\n",
    "del df_neu['Unnamed: 0']"
   ],
   "metadata": {
    "collapsed": false,
    "pycharm": {
     "name": "#%%\n"
    }
   }
  },
  {
   "cell_type": "code",
   "execution_count": 4,
   "outputs": [],
   "source": [
    "df_neg['sentiment'] = -1\n",
    "df_neu['sentiment'] = 0\n",
    "df_pos['sentiment'] = 1"
   ],
   "metadata": {
    "collapsed": false,
    "pycharm": {
     "name": "#%%\n"
    }
   }
  },
  {
   "cell_type": "code",
   "execution_count": 5,
   "outputs": [],
   "source": [
    "df = pd.concat([df_neg, df_neu, df_pos], ignore_index=True)"
   ],
   "metadata": {
    "collapsed": false,
    "pycharm": {
     "name": "#%%\n"
    }
   }
  },
  {
   "cell_type": "markdown",
   "source": [
    "dataframe со всеми рецензиями:"
   ],
   "metadata": {
    "collapsed": false,
    "pycharm": {
     "name": "#%% md\n"
    }
   }
  },
  {
   "cell_type": "code",
   "execution_count": 6,
   "outputs": [
    {
     "data": {
      "text/plain": "                                              review  sentiment\n0  Культовый трэш-хоррор Уэса Крейвена начинается...         -1\n1  Зашла на свой любимый сайт, полностью убежденн...         -1\n2  Помимо того, что они любят спасать мир по-свое...         -1\n3  Решил посмотреть данный сериал из-за смеси ком...         -1\n4  В своё время студия 'Мельница' подарила нам не...         -1",
      "text/html": "<div>\n<style scoped>\n    .dataframe tbody tr th:only-of-type {\n        vertical-align: middle;\n    }\n\n    .dataframe tbody tr th {\n        vertical-align: top;\n    }\n\n    .dataframe thead th {\n        text-align: right;\n    }\n</style>\n<table border=\"1\" class=\"dataframe\">\n  <thead>\n    <tr style=\"text-align: right;\">\n      <th></th>\n      <th>review</th>\n      <th>sentiment</th>\n    </tr>\n  </thead>\n  <tbody>\n    <tr>\n      <th>0</th>\n      <td>Культовый трэш-хоррор Уэса Крейвена начинается...</td>\n      <td>-1</td>\n    </tr>\n    <tr>\n      <th>1</th>\n      <td>Зашла на свой любимый сайт, полностью убежденн...</td>\n      <td>-1</td>\n    </tr>\n    <tr>\n      <th>2</th>\n      <td>Помимо того, что они любят спасать мир по-свое...</td>\n      <td>-1</td>\n    </tr>\n    <tr>\n      <th>3</th>\n      <td>Решил посмотреть данный сериал из-за смеси ком...</td>\n      <td>-1</td>\n    </tr>\n    <tr>\n      <th>4</th>\n      <td>В своё время студия 'Мельница' подарила нам не...</td>\n      <td>-1</td>\n    </tr>\n  </tbody>\n</table>\n</div>"
     },
     "execution_count": 6,
     "metadata": {},
     "output_type": "execute_result"
    }
   ],
   "source": [
    "df.head()"
   ],
   "metadata": {
    "collapsed": false,
    "pycharm": {
     "name": "#%%\n"
    }
   }
  },
  {
   "cell_type": "code",
   "execution_count": 7,
   "outputs": [
    {
     "data": {
      "text/plain": "(131669, 2)"
     },
     "execution_count": 7,
     "metadata": {},
     "output_type": "execute_result"
    }
   ],
   "source": [
    "df.shape"
   ],
   "metadata": {
    "collapsed": false,
    "pycharm": {
     "name": "#%%\n"
    }
   }
  },
  {
   "cell_type": "code",
   "execution_count": 8,
   "outputs": [],
   "source": [
    "data = df.copy()"
   ],
   "metadata": {
    "collapsed": false,
    "pycharm": {
     "name": "#%%\n"
    }
   }
  },
  {
   "cell_type": "code",
   "execution_count": 9,
   "outputs": [
    {
     "data": {
      "text/plain": "                                              review  sentiment\n0  Культовый трэш-хоррор Уэса Крейвена начинается...         -1\n1  Зашла на свой любимый сайт, полностью убежденн...         -1\n2  Помимо того, что они любят спасать мир по-свое...         -1\n3  Решил посмотреть данный сериал из-за смеси ком...         -1\n4  В своё время студия 'Мельница' подарила нам не...         -1",
      "text/html": "<div>\n<style scoped>\n    .dataframe tbody tr th:only-of-type {\n        vertical-align: middle;\n    }\n\n    .dataframe tbody tr th {\n        vertical-align: top;\n    }\n\n    .dataframe thead th {\n        text-align: right;\n    }\n</style>\n<table border=\"1\" class=\"dataframe\">\n  <thead>\n    <tr style=\"text-align: right;\">\n      <th></th>\n      <th>review</th>\n      <th>sentiment</th>\n    </tr>\n  </thead>\n  <tbody>\n    <tr>\n      <th>0</th>\n      <td>Культовый трэш-хоррор Уэса Крейвена начинается...</td>\n      <td>-1</td>\n    </tr>\n    <tr>\n      <th>1</th>\n      <td>Зашла на свой любимый сайт, полностью убежденн...</td>\n      <td>-1</td>\n    </tr>\n    <tr>\n      <th>2</th>\n      <td>Помимо того, что они любят спасать мир по-свое...</td>\n      <td>-1</td>\n    </tr>\n    <tr>\n      <th>3</th>\n      <td>Решил посмотреть данный сериал из-за смеси ком...</td>\n      <td>-1</td>\n    </tr>\n    <tr>\n      <th>4</th>\n      <td>В своё время студия 'Мельница' подарила нам не...</td>\n      <td>-1</td>\n    </tr>\n  </tbody>\n</table>\n</div>"
     },
     "execution_count": 9,
     "metadata": {},
     "output_type": "execute_result"
    }
   ],
   "source": [
    "data.head()"
   ],
   "metadata": {
    "collapsed": false,
    "pycharm": {
     "name": "#%%\n"
    }
   }
  },
  {
   "cell_type": "markdown",
   "source": [
    "#### Предобработка текста\n",
    "Удаляем стоп-слова, знаки пунктуации и понижаем регистр"
   ],
   "metadata": {
    "collapsed": false,
    "pycharm": {
     "name": "#%% md\n"
    }
   }
  },
  {
   "cell_type": "code",
   "execution_count": 10,
   "outputs": [
    {
     "name": "stderr",
     "output_type": "stream",
     "text": [
      "[nltk_data] Downloading package stopwords to\n",
      "[nltk_data]     /Users/polinakragel/nltk_data...\n",
      "[nltk_data]   Package stopwords is already up-to-date!\n"
     ]
    },
    {
     "data": {
      "text/plain": "True"
     },
     "execution_count": 10,
     "metadata": {},
     "output_type": "execute_result"
    }
   ],
   "source": [
    "nltk.download('stopwords')"
   ],
   "metadata": {
    "collapsed": false,
    "pycharm": {
     "name": "#%%\n"
    }
   }
  },
  {
   "cell_type": "code",
   "execution_count": 11,
   "outputs": [],
   "source": [
    "def preprocess_text(text, mystopwords = stopwords.words('russian')):\n",
    "    text = \" \".join([word for word in text.split() if (word not in mystopwords) and (word.count(word[0]) != len(word))])\n",
    "    text = text.lower()\n",
    "    text = text.translate(str.maketrans('', '', string.punctuation))\n",
    "    return text"
   ],
   "metadata": {
    "collapsed": false,
    "pycharm": {
     "name": "#%%\n"
    }
   }
  },
  {
   "cell_type": "code",
   "execution_count": null,
   "outputs": [],
   "source": [
    "data['review'] = [preprocess_text(t) for t in data['review']]"
   ],
   "metadata": {
    "collapsed": false,
    "pycharm": {
     "name": "#%%\n",
     "is_executing": true
    }
   }
  },
  {
   "cell_type": "code",
   "execution_count": 16,
   "outputs": [
    {
     "data": {
      "text/plain": "                                              review  sentiment\n0  культовый трэшхоррор уэса крейвена начинается ...         -1\n1  зашла свой любимый сайт полностью убежденная ф...         -1\n2  помимо того любят спасать мир посвоему любят е...         -1\n3  решил посмотреть данный сериал изза смеси коме...         -1\n4  своё время студия мельница подарила нам нескол...         -1",
      "text/html": "<div>\n<style scoped>\n    .dataframe tbody tr th:only-of-type {\n        vertical-align: middle;\n    }\n\n    .dataframe tbody tr th {\n        vertical-align: top;\n    }\n\n    .dataframe thead th {\n        text-align: right;\n    }\n</style>\n<table border=\"1\" class=\"dataframe\">\n  <thead>\n    <tr style=\"text-align: right;\">\n      <th></th>\n      <th>review</th>\n      <th>sentiment</th>\n    </tr>\n  </thead>\n  <tbody>\n    <tr>\n      <th>0</th>\n      <td>культовый трэшхоррор уэса крейвена начинается ...</td>\n      <td>-1</td>\n    </tr>\n    <tr>\n      <th>1</th>\n      <td>зашла свой любимый сайт полностью убежденная ф...</td>\n      <td>-1</td>\n    </tr>\n    <tr>\n      <th>2</th>\n      <td>помимо того любят спасать мир посвоему любят е...</td>\n      <td>-1</td>\n    </tr>\n    <tr>\n      <th>3</th>\n      <td>решил посмотреть данный сериал изза смеси коме...</td>\n      <td>-1</td>\n    </tr>\n    <tr>\n      <th>4</th>\n      <td>своё время студия мельница подарила нам нескол...</td>\n      <td>-1</td>\n    </tr>\n  </tbody>\n</table>\n</div>"
     },
     "execution_count": 16,
     "metadata": {},
     "output_type": "execute_result"
    }
   ],
   "source": [
    "data.head()"
   ],
   "metadata": {
    "collapsed": false,
    "pycharm": {
     "name": "#%%\n"
    }
   }
  },
  {
   "cell_type": "markdown",
   "source": [
    "Стэмминг:"
   ],
   "metadata": {
    "collapsed": false,
    "pycharm": {
     "name": "#%% md\n"
    }
   }
  },
  {
   "cell_type": "code",
   "execution_count": 17,
   "outputs": [],
   "source": [
    "def stem_text(text):\n",
    "    snowball = SnowballStemmer(language=\"russian\")\n",
    "    text = \" \".join([snowball.stem(word) for word in text.split()])\n",
    "    return text"
   ],
   "metadata": {
    "collapsed": false,
    "pycharm": {
     "name": "#%%\n"
    }
   }
  },
  {
   "cell_type": "code",
   "execution_count": null,
   "outputs": [],
   "source": [
    "data['review'] = [stem_text(t) for t in data['review']]"
   ],
   "metadata": {
    "collapsed": false,
    "pycharm": {
     "name": "#%%\n",
     "is_executing": true
    }
   }
  },
  {
   "cell_type": "code",
   "execution_count": 24,
   "outputs": [
    {
     "data": {
      "text/plain": "                                              review  sentiment\n0  культов трэшхоррор уэс крейв начина зловещ эпи...         -1\n1  зашл сво любим сайт полност убежден фильм полу...         -1\n2  помим тог люб спаса мир посво люб ещ коверка п...         -1\n3  реш посмотрет дан сериа изз смес комед драм об...         -1\n4  сво врем студ мельниц подар нам нескольк отлич...         -1",
      "text/html": "<div>\n<style scoped>\n    .dataframe tbody tr th:only-of-type {\n        vertical-align: middle;\n    }\n\n    .dataframe tbody tr th {\n        vertical-align: top;\n    }\n\n    .dataframe thead th {\n        text-align: right;\n    }\n</style>\n<table border=\"1\" class=\"dataframe\">\n  <thead>\n    <tr style=\"text-align: right;\">\n      <th></th>\n      <th>review</th>\n      <th>sentiment</th>\n    </tr>\n  </thead>\n  <tbody>\n    <tr>\n      <th>0</th>\n      <td>культов трэшхоррор уэс крейв начина зловещ эпи...</td>\n      <td>-1</td>\n    </tr>\n    <tr>\n      <th>1</th>\n      <td>зашл сво любим сайт полност убежден фильм полу...</td>\n      <td>-1</td>\n    </tr>\n    <tr>\n      <th>2</th>\n      <td>помим тог люб спаса мир посво люб ещ коверка п...</td>\n      <td>-1</td>\n    </tr>\n    <tr>\n      <th>3</th>\n      <td>реш посмотрет дан сериа изз смес комед драм об...</td>\n      <td>-1</td>\n    </tr>\n    <tr>\n      <th>4</th>\n      <td>сво врем студ мельниц подар нам нескольк отлич...</td>\n      <td>-1</td>\n    </tr>\n  </tbody>\n</table>\n</div>"
     },
     "execution_count": 24,
     "metadata": {},
     "output_type": "execute_result"
    }
   ],
   "source": [
    "data.head()"
   ],
   "metadata": {
    "collapsed": false,
    "pycharm": {
     "name": "#%%\n"
    }
   }
  },
  {
   "cell_type": "markdown",
   "source": [
    "Лемматизация:"
   ],
   "metadata": {
    "collapsed": false,
    "pycharm": {
     "name": "#%% md\n"
    }
   }
  },
  {
   "cell_type": "code",
   "execution_count": 21,
   "outputs": [],
   "source": [
    "def lemm_text(text):\n",
    "    morph = pymorphy2.MorphAnalyzer()\n",
    "    text = \" \".join([morph.parse(word)[0].normal_form for word in text.split()])\n",
    "    return text"
   ],
   "metadata": {
    "collapsed": false,
    "pycharm": {
     "name": "#%%\n"
    }
   }
  },
  {
   "cell_type": "code",
   "execution_count": null,
   "outputs": [],
   "source": [
    "data['review'] = [lemm_text(t) for t in data['review']]"
   ],
   "metadata": {
    "collapsed": false,
    "pycharm": {
     "name": "#%%\n",
     "is_executing": true
    }
   }
  },
  {
   "cell_type": "code",
   "execution_count": 23,
   "outputs": [
    {
     "data": {
      "text/plain": "                                              review  sentiment\n0  культовый трэшхоррор уэс крейвена начинаться з...         -1\n1  зайти свой любимый сайт полностью убеждённый ф...         -1\n2  помимо тот любить спасать мир посвоему любить ...         -1\n3  решить посмотреть данный сериал изз смесь коме...         -1\n4  свой время студия мельница подарить мы несколь...         -1",
      "text/html": "<div>\n<style scoped>\n    .dataframe tbody tr th:only-of-type {\n        vertical-align: middle;\n    }\n\n    .dataframe tbody tr th {\n        vertical-align: top;\n    }\n\n    .dataframe thead th {\n        text-align: right;\n    }\n</style>\n<table border=\"1\" class=\"dataframe\">\n  <thead>\n    <tr style=\"text-align: right;\">\n      <th></th>\n      <th>review</th>\n      <th>sentiment</th>\n    </tr>\n  </thead>\n  <tbody>\n    <tr>\n      <th>0</th>\n      <td>культовый трэшхоррор уэс крейвена начинаться з...</td>\n      <td>-1</td>\n    </tr>\n    <tr>\n      <th>1</th>\n      <td>зайти свой любимый сайт полностью убеждённый ф...</td>\n      <td>-1</td>\n    </tr>\n    <tr>\n      <th>2</th>\n      <td>помимо тот любить спасать мир посвоему любить ...</td>\n      <td>-1</td>\n    </tr>\n    <tr>\n      <th>3</th>\n      <td>решить посмотреть данный сериал изз смесь коме...</td>\n      <td>-1</td>\n    </tr>\n    <tr>\n      <th>4</th>\n      <td>свой время студия мельница подарить мы несколь...</td>\n      <td>-1</td>\n    </tr>\n  </tbody>\n</table>\n</div>"
     },
     "execution_count": 23,
     "metadata": {},
     "output_type": "execute_result"
    }
   ],
   "source": [
    "data.head()"
   ],
   "metadata": {
    "collapsed": false,
    "pycharm": {
     "name": "#%%\n"
    }
   }
  },
  {
   "cell_type": "markdown",
   "source": [
    "Разобьем данные на тренировочную (70%) и тестовую (30%) выборки."
   ],
   "metadata": {
    "collapsed": false,
    "pycharm": {
     "name": "#%% md\n"
    }
   }
  },
  {
   "cell_type": "code",
   "execution_count": 25,
   "outputs": [],
   "source": [
    "x_train, x_test = train_test_split(data, test_size=0.3, random_state=1)"
   ],
   "metadata": {
    "collapsed": false,
    "pycharm": {
     "name": "#%%\n"
    }
   }
  },
  {
   "cell_type": "markdown",
   "source": [
    "Векторизация текста"
   ],
   "metadata": {
    "collapsed": false,
    "pycharm": {
     "name": "#%% md\n"
    }
   }
  },
  {
   "cell_type": "code",
   "execution_count": 26,
   "outputs": [],
   "source": [
    "count_vectorizer = CountVectorizer(analyzer=\"word\", ngram_range=(1, 1))"
   ],
   "metadata": {
    "collapsed": false,
    "pycharm": {
     "name": "#%%\n"
    }
   }
  },
  {
   "cell_type": "code",
   "execution_count": 27,
   "outputs": [],
   "source": [
    "train_data_features = count_vectorizer.fit_transform(x_train['review'])"
   ],
   "metadata": {
    "collapsed": false,
    "pycharm": {
     "name": "#%%\n"
    }
   }
  },
  {
   "cell_type": "markdown",
   "source": [
    "Кросс-валидация"
   ],
   "metadata": {
    "collapsed": false,
    "pycharm": {
     "name": "#%% md\n"
    }
   }
  },
  {
   "cell_type": "code",
   "execution_count": 28,
   "outputs": [
    {
     "name": "stdout",
     "output_type": "stream",
     "text": [
      "[0.72512748 0.72708039 0.73120321 0.72891011 0.73221939]\n",
      "0.7289081168438323\n"
     ]
    }
   ],
   "source": [
    "# svm = LinearSVC(dual=False)\n",
    "mnb= MultinomialNB(alpha=1.0, class_prior=None, fit_prior=True)\n",
    "k_fold = KFold(5, shuffle=True, random_state=1)\n",
    "res = cross_val_score(mnb, train_data_features, x_train['sentiment'], cv=k_fold)\n",
    "print(res)\n",
    "print(np.mean(res))"
   ],
   "metadata": {
    "collapsed": false,
    "pycharm": {
     "name": "#%%\n"
    }
   }
  },
  {
   "cell_type": "markdown",
   "source": [
    "Вспомогательная функция вывода метрик"
   ],
   "metadata": {
    "collapsed": false,
    "pycharm": {
     "name": "#%% md\n"
    }
   }
  },
  {
   "cell_type": "code",
   "execution_count": 29,
   "outputs": [],
   "source": [
    "def evaluate_prediction(predictions, target):\n",
    "    print('accuracy %s' % accuracy_score(target, predictions))\n",
    "    print('precision %s' % precision_recall_fscore_support(target, predictions)[0])\n",
    "    print('recall %s' % precision_recall_fscore_support(target, predictions)[1])\n",
    "    print('fscore %s' %precision_recall_fscore_support(target, predictions)[2])\n",
    "    print('Precision =', precision_score(target, predictions, average='micro'))\n",
    "    print('Recall =', recall_score(target, predictions, average='micro'))\n",
    "    print('F1 =', f1_score(target, predictions, average='micro'))"
   ],
   "metadata": {
    "collapsed": false,
    "pycharm": {
     "name": "#%%\n"
    }
   }
  },
  {
   "cell_type": "markdown",
   "source": [
    "Функция, предсказывающая значения"
   ],
   "metadata": {
    "collapsed": false,
    "pycharm": {
     "name": "#%% md\n"
    }
   }
  },
  {
   "cell_type": "code",
   "execution_count": 30,
   "outputs": [],
   "source": [
    "def predict(vectorizer, classifier, data):\n",
    "    data_features = vectorizer.transform(data['review'])\n",
    "    predictions = classifier.predict(data_features)\n",
    "    target = data['sentiment']\n",
    "    target = target.astype('int')\n",
    "    evaluate_prediction(predictions, target)\n",
    "    return predictions"
   ],
   "metadata": {
    "collapsed": false,
    "pycharm": {
     "name": "#%%\n"
    }
   }
  },
  {
   "cell_type": "markdown",
   "source": [
    "Обучаем модель, предсказываем значения"
   ],
   "metadata": {
    "collapsed": false,
    "pycharm": {
     "name": "#%% md\n"
    }
   }
  },
  {
   "cell_type": "code",
   "execution_count": 31,
   "outputs": [
    {
     "name": "stdout",
     "output_type": "stream",
     "text": [
      "--- 0.21051025390625 seconds(обучение) ---\n",
      "accuracy 0.7342852079694185\n",
      "precision [0.62417276 0.42113284 0.79682785]\n",
      "recall [0.58908613 0.22237124 0.91533454]\n",
      "fscore [0.6061221  0.29105591 0.85197999]\n",
      "Precision = 0.7342852079694185\n",
      "Recall = 0.7342852079694185\n",
      "F1 = 0.7342852079694185\n",
      "--- 7.973534822463989 seconds(предсказание) ---\n"
     ]
    }
   ],
   "source": [
    "y_train = x_train['sentiment']\n",
    "y_train = y_train.astype('int')\n",
    "\n",
    "# svm = LinearSVC(dual=False)\n",
    "mnb = MultinomialNB(alpha=1.0, class_prior=None, fit_prior=True)\n",
    "\n",
    "start_time = time.time()\n",
    "# svm.fit(train_data_features, y_train)\n",
    "mnb.fit(train_data_features, y_train)\n",
    "print(\"--- %s seconds(обучение) ---\" % (time.time() - start_time))\n",
    "\n",
    "start_time = time.time()\n",
    "predictions = predict(count_vectorizer, mnb, x_test)\n",
    "print(\"--- %s seconds(предсказание) ---\" % (time.time() - start_time))"
   ],
   "metadata": {
    "collapsed": false,
    "pycharm": {
     "name": "#%%\n"
    }
   }
  },
  {
   "cell_type": "code",
   "execution_count": 32,
   "outputs": [
    {
     "name": "stdout",
     "output_type": "stream",
     "text": [
      "Матрица несоответствий:\n",
      "[[ 3584   978  1522]\n",
      " [ 1261  1658  4537]\n",
      " [  897  1301 23763]]\n"
     ]
    }
   ],
   "source": [
    "y_test = x_test['sentiment']\n",
    "conf_mat = confusion_matrix(y_test, predictions)\n",
    "print(\"Матрица несоответствий:\")\n",
    "print(conf_mat)"
   ],
   "metadata": {
    "collapsed": false,
    "pycharm": {
     "name": "#%%\n"
    }
   }
  },
  {
   "cell_type": "markdown",
   "source": [
    "Основные показатели набора данных"
   ],
   "metadata": {
    "collapsed": false,
    "pycharm": {
     "name": "#%% md\n"
    }
   }
  },
  {
   "cell_type": "code",
   "execution_count": 35,
   "outputs": [],
   "source": [
    "def senten(data):\n",
    "    k = 0\n",
    "    for review in data['review']:\n",
    "        k += review.count('.')\n",
    "    return k / data.shape[0]\n",
    "\n",
    "\n",
    "def words(data):\n",
    "    k = 0\n",
    "    for review in data['review']:\n",
    "        k += len(review.split())\n",
    "    return k / data.shape[0]\n",
    "\n",
    "\n",
    "def uniq_words(data):\n",
    "    words_dict = dict()\n",
    "    for review in data['review']:\n",
    "        for word in review.split():\n",
    "            if word in words_dict:\n",
    "                words_dict[word] = words_dict[word] + 1\n",
    "            else:\n",
    "                words_dict[word] = 1\n",
    "    return len(words_dict)"
   ],
   "metadata": {
    "collapsed": false,
    "pycharm": {
     "name": "#%%\n"
    }
   }
  },
  {
   "cell_type": "code",
   "execution_count": 36,
   "outputs": [
    {
     "name": "stdout",
     "output_type": "stream",
     "text": [
      "Количество уникальных слов = 1794406\n",
      "Среднее количество предложений в отзыве = 22.647737888189322\n",
      "Среднее количество слов в отзыве = 336.0425916502746\n"
     ]
    }
   ],
   "source": [
    "print(\"Количество уникальных слов =\", uniq_words(df))\n",
    "print(\"Среднее количество предложений в отзыве =\", senten(df))\n",
    "print(\"Среднее количество слов в отзыве =\",words(df))"
   ],
   "metadata": {
    "collapsed": false,
    "pycharm": {
     "name": "#%%\n"
    }
   }
  },
  {
   "cell_type": "code",
   "execution_count": null,
   "outputs": [],
   "source": [],
   "metadata": {
    "collapsed": false,
    "pycharm": {
     "name": "#%%\n"
    }
   }
  }
 ],
 "metadata": {
  "kernelspec": {
   "display_name": "Python 3",
   "language": "python",
   "name": "python3"
  },
  "language_info": {
   "codemirror_mode": {
    "name": "ipython",
    "version": 2
   },
   "file_extension": ".py",
   "mimetype": "text/x-python",
   "name": "python",
   "nbconvert_exporter": "python",
   "pygments_lexer": "ipython2",
   "version": "2.7.6"
  }
 },
 "nbformat": 4,
 "nbformat_minor": 0
}